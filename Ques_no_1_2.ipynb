{
  "nbformat": 4,
  "nbformat_minor": 0,
  "metadata": {
    "colab": {
      "name": "Ques_no_1_2.ipynb",
      "provenance": [],
      "collapsed_sections": []
    },
    "kernelspec": {
      "name": "python3",
      "display_name": "Python 3"
    },
    "language_info": {
      "name": "python"
    }
  },
  "cells": [
    {
      "cell_type": "code",
      "metadata": {
        "id": "1q4OMP1hN1TO"
      },
      "source": [
        "import pickle\n",
        "model=pickle.load(open('/content/Housing_model_save', 'rb'))"
      ],
      "execution_count": 2,
      "outputs": []
    },
    {
      "cell_type": "code",
      "metadata": {
        "id": "d-UVvpp4PKzC"
      },
      "source": [
        "X_test=[7420,\t4\t,2,\t3,\t1,\t0,\t0,\t0,\t1,\t2,\t1,\t0]"
      ],
      "execution_count": 3,
      "outputs": []
    },
    {
      "cell_type": "code",
      "metadata": {
        "colab": {
          "base_uri": "https://localhost:8080/"
        },
        "id": "r4Lma4vZPS8M",
        "outputId": "46521831-2656-4e77-acc7-59b68dc5817b"
      },
      "source": [
        "model.predict([X_test])"
      ],
      "execution_count": 5,
      "outputs": [
        {
          "output_type": "execute_result",
          "data": {
            "text/plain": [
              "array([8373010.12284914])"
            ]
          },
          "metadata": {
            "tags": []
          },
          "execution_count": 5
        }
      ]
    },
    {
      "cell_type": "code",
      "metadata": {
        "id": "fHseFSw9Q3Zz"
      },
      "source": [
        "import joblib\n",
        "model2=joblib.load('/content/Housing_model_save_2')"
      ],
      "execution_count": 6,
      "outputs": []
    },
    {
      "cell_type": "code",
      "metadata": {
        "id": "yHlg4wCSRCgk"
      },
      "source": [
        "X_1_test=[8960,\t4,\t4,\t4,\t1,\t0,\t0,\t0,\t1,\t3,\t0,\t0]"
      ],
      "execution_count": 7,
      "outputs": []
    },
    {
      "cell_type": "code",
      "metadata": {
        "colab": {
          "base_uri": "https://localhost:8080/"
        },
        "id": "z3yWX9KLRQlN",
        "outputId": "d7e593a3-f71b-4b38-c6ec-901a81bff9b7"
      },
      "source": [
        "model2.predict([X_1_test])"
      ],
      "execution_count": 8,
      "outputs": [
        {
          "output_type": "execute_result",
          "data": {
            "text/plain": [
              "array([10647811.23745486])"
            ]
          },
          "metadata": {
            "tags": []
          },
          "execution_count": 8
        }
      ]
    }
  ]
}